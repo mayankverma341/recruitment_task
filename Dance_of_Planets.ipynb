{
  "nbformat": 4,
  "nbformat_minor": 0,
  "metadata": {
    "colab": {
      "provenance": []
    },
    "kernelspec": {
      "name": "python3",
      "display_name": "Python 3"
    },
    "language_info": {
      "name": "python"
    }
  },
  "cells": [
    {
      "cell_type": "code",
      "source": [
        "import numpy as np\n",
        "import torch.nn as nn\n",
        "import matplotlib.pyplot as plt\n",
        "import pandas as pd\n",
        "import torch\n",
        "from scipy.integrate import solve_ivp\n",
        "\n",
        "# User Input\n",
        "m_1 = 4\n",
        "m_2 = 4\n",
        "x_1 = [5.0,0.0]\n",
        "x_2 = [-5.0,0.0]\n",
        "v_1 = [5.0,0.0]\n",
        "v_2 = [-5.0,0.0]\n",
        "G = 1\n",
        "t = 10"
      ],
      "metadata": {
        "id": "-SsQIlS0QB-q"
      },
      "execution_count": 67,
      "outputs": []
    },
    {
      "cell_type": "code",
      "source": [
        "# Data Generation\n",
        "def two_body_system(t, y):\n",
        "  x1, y1, x2, y2, vx1, vy1, vx2, vy2 = y\n",
        "  r = np.sqrt((x2 - x1)**2 + (y2 - y1)**2)\n",
        "  ax1 = G * m_2 * (x2 - x1) / r**3\n",
        "  ay1 = G * m_2 * (y2 - y1) / r**3\n",
        "  ax2 = G * m_1 * (x1 - x2) / r**3\n",
        "  ay2 = G * m_1 * (y1 - y2) / r**3\n",
        "  return [vx1, vy1, vx2, vy2, ax1, ay1, ax2, ay2]\n",
        "\n",
        "y0 = [x_1[0], x_1[1], x_2[0], x_2[1], v_1[0], v_1[1], v_2[0], v_2[1]]\n",
        "\n",
        "t_span = [0, t*2]\n",
        "t_points = np.linspace(0, t*2, 100)\n",
        "\n",
        "ground_truth = solve_ivp(two_body_system, t_span, y0, t_eval=t_points, method='RK45')\n",
        "\n",
        "t_data = t_points\n",
        "x1_data = ground_truth.y[0]\n",
        "y1_data = ground_truth.y[1]\n",
        "x2_data = ground_truth.y[2]\n",
        "y2_data = ground_truth.y[3]\n",
        "\n",
        "\n",
        "index = int(0.8 * len(t_data))\n",
        "t_train, t_test = t_data[:index], t_data[index:]\n",
        "x1_train, x1_test = x1_data[:index], x1_data[index:]\n",
        "y1_train, y1_test = y1_data[:index], y1_data[index:]\n",
        "x2_train, x2_test = x2_data[:index], x2_data[index:]\n",
        "y2_train, y2_test = y2_data[:index], y2_data[index:]"
      ],
      "metadata": {
        "id": "bMAA6Qj0QdT3"
      },
      "execution_count": 68,
      "outputs": []
    },
    {
      "cell_type": "code",
      "source": [
        "# Model Definition\n",
        "class TwoBodyPINN(nn.Module):\n",
        "    def __init__(self):\n",
        "      super(TwoBodyPINN, self).__init__()\n",
        "      self.fc1 = nn.Linear(1, 64)\n",
        "      self.fc2 = nn.Linear(64, 128)\n",
        "      self.fc3 = nn.Linear(128, 64)\n",
        "      self.out = nn.Linear(64, 4)\n",
        "\n",
        "    def forward(self, x):\n",
        "      x = torch.tanh(self.fc1(x))\n",
        "      x = torch.tanh(self.fc2(x))\n",
        "      x = torch.tanh(self.fc3(x))\n",
        "      x = self.out(x)\n",
        "      return x"
      ],
      "metadata": {
        "id": "lzrmkV5DSbmN"
      },
      "execution_count": 69,
      "outputs": []
    },
    {
      "cell_type": "code",
      "source": [
        "# Cost function consisting of three losses Data loss, Physics loss, Initial Value loss\n",
        "\n",
        "def total_loss(model, t_train, x1_train, y1_train, x2_train, y2_train,lambda_data=10, lambda_phys=1.0, lambda_init=1.0):\n",
        "  t_train_tensor = torch.tensor(t_train, dtype=torch.float32).reshape(-1,1)\n",
        "  t_train_tensor.requires_grad_(True)\n",
        "\n",
        "  # Predicted positions\n",
        "  positions = model(t_train_tensor)\n",
        "  x1 = positions[:, 0:1]\n",
        "  y1 = positions[:, 1:2]\n",
        "  x2 = positions[:, 2:3]\n",
        "  y2 = positions[:, 3:4]\n",
        "\n",
        "  # Velocities\n",
        "  vx1 = torch.autograd.grad(x1.sum(), t_train_tensor, create_graph=True)[0]\n",
        "  vy1 = torch.autograd.grad(y1.sum(), t_train_tensor, create_graph=True)[0]\n",
        "  vx2 = torch.autograd.grad(x2.sum(), t_train_tensor, create_graph=True)[0]\n",
        "  vy2 = torch.autograd.grad(y2.sum(), t_train_tensor, create_graph=True)[0]\n",
        "\n",
        "  # Accelerations\n",
        "  ax1 = torch.autograd.grad(vx1.sum(), t_train_tensor, create_graph=True)[0]\n",
        "  ay1 = torch.autograd.grad(vy1.sum(), t_train_tensor, create_graph=True)[0]\n",
        "  ax2 = torch.autograd.grad(vx2.sum(), t_train_tensor, create_graph=True)[0]\n",
        "  ay2 = torch.autograd.grad(vy2.sum(), t_train_tensor, create_graph=True)[0]\n",
        "\n",
        "  # Data Loss\n",
        "  data_loss = torch.mean((x1 - torch.tensor(x1_train, dtype = torch.float32).reshape(-1,1))**2 +(y1 -torch.tensor(y1_train, dtype = torch.float32).reshape(-1,1))**2 +(x2 - torch.tensor(x2_train, dtype = torch.float32).reshape(-1,1))**2 +(y2- torch.tensor(y2_train, dtype = torch.float32).reshape(-1,1))**2)\n",
        "\n",
        "\n",
        "  r = torch.sqrt((x2 - x1)**2 + (y2 - y1)**2 + 1e-10)\n",
        "  g_ax1 = G * m_2 *(x2 - x1) / r**3\n",
        "  g_ay1 = G * m_2 *(y2 - y1) / r**3\n",
        "  g_ax2 = G * m_1 *(x1 - x2) / r**3\n",
        "  g_ay2 = G * m_1 *(y1 - y2) / r**3\n",
        "\n",
        "  physics_loss = torch.mean((ax1 - g_ax1)**2 +(ay1 - g_ay1)**2 +(ax2 - g_ax2)**2 +(ay2 - g_ay2)**2)\n",
        "\n",
        "  x1_0 = x1[0, 0]\n",
        "  y1_0 = y1[0, 0]\n",
        "  x2_0 = x2[0, 0]\n",
        "  y2_0 = y2[0, 0]\n",
        "  vx1_0 = vx1[0]\n",
        "  vy1_0 = vy1[0]\n",
        "  vx2_0 = vx2[0]\n",
        "  vy2_0 = vy2[0]\n",
        "\n",
        "  # Initial condition loss\n",
        "  init_loss = ((x1_0 - x_1[0])**2 +(y1_0 - x_1[1])**2 +(x2_0 - x_2[0])**2 +(y2_0 - x_2[1])**2 +(vx1_0 - v_1[0])**2 +(vy1_0 - v_1[1])**2 +(vx2_0 - v_2[0])**2 +(vy2_0 - v_2[1])**2 )\n",
        "  init_loss = torch.mean(init_loss)\n",
        "\n",
        "  total = lambda_data * data_loss + lambda_phys * physics_loss + lambda_init * init_loss\n",
        "  return total,{'data': data_loss.item(),'physics': physics_loss.item(), 'initial':init_loss.item()}\n"
      ],
      "metadata": {
        "id": "9i6-vEr7Spty"
      },
      "execution_count": 70,
      "outputs": []
    },
    {
      "cell_type": "code",
      "source": [
        "model = TwoBodyPINN()\n",
        "optimizer = torch.optim.Adam(model.parameters(), lr=1e-3)\n",
        "\n",
        "for epoch in range(30000):\n",
        "    optimizer.zero_grad()\n",
        "    loss, loss_parts = total_loss(model, t_train, x1_train, y1_train, x2_train, y2_train,lambda_data=7.0, lambda_phys=1.0, lambda_init=1.0)\n",
        "    loss.backward()\n",
        "    optimizer.step()\n",
        "\n",
        "    if epoch % 500 == 0:\n",
        "        print(f\"Epoch {epoch}: total loss = {loss.item():.6f}, parts = {loss_parts}\")"
      ],
      "metadata": {
        "colab": {
          "base_uri": "https://localhost:8080/"
        },
        "id": "cDE03PgJ_sTj",
        "outputId": "30a05479-fa62-4990-d38d-07dc5c84b1ab"
      },
      "execution_count": 82,
      "outputs": [
        {
          "output_type": "stream",
          "name": "stdout",
          "text": [
            "Epoch 0: total loss = 40689.171875, parts = {'data': 5065.39892578125, 'physics': 5132.10693359375, 'initial': 99.27311706542969}\n",
            "Epoch 500: total loss = 10645.573242, parts = {'data': 1520.1590576171875, 'physics': 2.8504600524902344, 'initial': 1.6098018884658813}\n",
            "Epoch 1000: total loss = 3323.554932, parts = {'data': 474.4949645996094, 'physics': 1.9343376159667969, 'initial': 0.15572509169578552}\n",
            "Epoch 1500: total loss = 1111.773926, parts = {'data': 158.56138610839844, 'physics': 1.8376712799072266, 'initial': 0.006592887453734875}\n",
            "Epoch 2000: total loss = 397.749969, parts = {'data': 56.562286376953125, 'physics': 1.8099113702774048, 'initial': 0.004047785419970751}\n",
            "Epoch 2500: total loss = 151.696457, parts = {'data': 21.403841018676758, 'physics': 1.8667466640472412, 'initial': 0.0028291617054492235}\n",
            "Epoch 3000: total loss = 61.659355, parts = {'data': 8.538063049316406, 'physics': 1.8903930187225342, 'initial': 0.0025209588930010796}\n",
            "Epoch 3500: total loss = 26.928909, parts = {'data': 3.578254222869873, 'physics': 1.8789962530136108, 'initial': 0.0021347329020500183}\n",
            "Epoch 4000: total loss = 12.909183, parts = {'data': 1.579716444015503, 'physics': 1.8496522903442383, 'initial': 0.0015155745204538107}\n",
            "Epoch 4500: total loss = 7.004836, parts = {'data': 0.7466259002685547, 'physics': 1.7772541046142578, 'initial': 0.0012005034368485212}\n",
            "Epoch 5000: total loss = 4.317491, parts = {'data': 0.3820813298225403, 'physics': 1.6423553228378296, 'initial': 0.0005657856818288565}\n",
            "Epoch 5500: total loss = 2.932616, parts = {'data': 0.2194080799818039, 'physics': 1.3964183330535889, 'initial': 0.00034071083064191043}\n",
            "Epoch 6000: total loss = 2.011241, parts = {'data': 0.1378418356180191, 'physics': 1.0461324453353882, 'initial': 0.0002159335999749601}\n",
            "Epoch 6500: total loss = 1.240106, parts = {'data': 0.08464519679546356, 'physics': 0.647436261177063, 'initial': 0.00015310563321691006}\n",
            "Epoch 7000: total loss = 0.596229, parts = {'data': 0.04109073430299759, 'physics': 0.30846041440963745, 'initial': 0.00013334571849554777}\n",
            "Epoch 7500: total loss = 0.221865, parts = {'data': 0.013251667842268944, 'physics': 0.12878386676311493, 'initial': 0.00031919567845761776}\n",
            "Epoch 8000: total loss = 2.012522, parts = {'data': 0.2669692039489746, 'physics': 0.043299730867147446, 'initial': 0.1004374623298645}\n",
            "Epoch 8500: total loss = 0.031816, parts = {'data': 0.0007834790158085525, 'physics': 0.02627592347562313, 'initial': 5.528445035452023e-05}\n",
            "Epoch 9000: total loss = 0.019256, parts = {'data': 0.0005151426303200424, 'physics': 0.015571696683764458, 'initial': 7.855617150198668e-05}\n",
            "Epoch 9500: total loss = 0.011775, parts = {'data': 0.00024357461370527744, 'physics': 0.010047568939626217, 'initial': 2.2673268176731654e-05}\n",
            "Epoch 10000: total loss = 0.007753, parts = {'data': 0.0001764425978763029, 'physics': 0.006496550049632788, 'initial': 2.115120878443122e-05}\n",
            "Epoch 10500: total loss = 0.537851, parts = {'data': 0.0693589597940445, 'physics': 0.007386849261820316, 'initial': 0.04495180770754814}\n",
            "Epoch 11000: total loss = 0.003264, parts = {'data': 8.102544234134257e-05, 'physics': 0.002680589444935322, 'initial': 1.6407258954131976e-05}\n",
            "Epoch 11500: total loss = 0.002264, parts = {'data': 6.001516157994047e-05, 'physics': 0.0018237046897411346, 'initial': 2.0664603653131053e-05}\n",
            "Epoch 12000: total loss = 0.004438, parts = {'data': 0.00028407812351360917, 'physics': 0.00221993587911129, 'initial': 0.00022955119493417442}\n",
            "Epoch 12500: total loss = 0.001316, parts = {'data': 3.62884093192406e-05, 'physics': 0.0010372307151556015, 'initial': 2.4968803700176068e-05}\n",
            "Epoch 13000: total loss = 0.001214, parts = {'data': 3.5302553442306817e-05, 'physics': 0.0009281792445108294, 'initial': 3.828097760560922e-05}\n",
            "Epoch 13500: total loss = 0.321858, parts = {'data': 0.043855778872966766, 'physics': 0.0013941898941993713, 'initial': 0.013473243452608585}\n",
            "Epoch 14000: total loss = 0.001016, parts = {'data': 2.8031727197230794e-05, 'physics': 0.0007784016197547317, 'initial': 4.143617843510583e-05}\n",
            "Epoch 14500: total loss = 0.003255, parts = {'data': 0.00019637402147054672, 'physics': 0.0008803741075098515, 'initial': 0.001000226242467761}\n",
            "Epoch 15000: total loss = 0.000788, parts = {'data': 1.6770261936471798e-05, 'physics': 0.0006495782872661948, 'initial': 2.10367506952025e-05}\n",
            "Epoch 15500: total loss = 0.000805, parts = {'data': 1.546526254969649e-05, 'physics': 0.0006712856120429933, 'initial': 2.5449529857723974e-05}\n",
            "Epoch 16000: total loss = 0.005690, parts = {'data': 0.000694254064001143, 'physics': 0.0006259456858970225, 'initial': 0.0002043655695160851}\n",
            "Epoch 16500: total loss = 0.000697, parts = {'data': 9.710312042443547e-06, 'physics': 0.0006155383889563382, 'initial': 1.3844324712408707e-05}\n",
            "Epoch 17000: total loss = 0.002661, parts = {'data': 0.00027576592401601374, 'physics': 0.0006481542368419468, 'initial': 8.26274772407487e-05}\n",
            "Epoch 17500: total loss = 0.000608, parts = {'data': 6.718437361996621e-06, 'physics': 0.000553719699382782, 'initial': 6.815389951952966e-06}\n",
            "Epoch 18000: total loss = 0.000720, parts = {'data': 1.5558263839920983e-05, 'physics': 0.0005959266563877463, 'initial': 1.4948783245927189e-05}\n",
            "Epoch 18500: total loss = 0.000570, parts = {'data': 4.96948405270814e-06, 'physics': 0.0005308521795086563, 'initial': 4.181752956355922e-06}\n",
            "Epoch 19000: total loss = 0.000582, parts = {'data': 4.260387413523858e-06, 'physics': 0.0005471844924613833, 'initial': 4.5834999582439195e-06}\n",
            "Epoch 19500: total loss = 0.224376, parts = {'data': 0.031105678528547287, 'physics': 0.001077006570994854, 'initial': 0.005558764096349478}\n",
            "Epoch 20000: total loss = 0.000770, parts = {'data': 2.2413223632611334e-05, 'physics': 0.0006056787678971887, 'initial': 7.088112852216e-06}\n",
            "Epoch 20500: total loss = 0.000665, parts = {'data': 2.063905958493706e-05, 'physics': 0.0005065643927082419, 'initial': 1.4441393432207406e-05}\n",
            "Epoch 21000: total loss = 0.000760, parts = {'data': 2.8459140594350174e-05, 'physics': 0.0005412419559434056, 'initial': 1.9367051208973862e-05}\n",
            "Epoch 21500: total loss = 3.140203, parts = {'data': 0.43561092019081116, 'physics': 0.006717337761074305, 'initial': 0.08420912176370621}\n",
            "Epoch 22000: total loss = 0.002354, parts = {'data': 0.00024894351372495294, 'physics': 0.000574265664909035, 'initial': 3.724187263287604e-05}\n",
            "Epoch 22500: total loss = 0.000510, parts = {'data': 2.4932107862696284e-06, 'physics': 0.0004915856407023966, 'initial': 6.380762442859123e-07}\n",
            "Epoch 23000: total loss = 0.000516, parts = {'data': 2.5280576210207073e-06, 'physics': 0.0004971105954609811, 'initial': 8.447447612525139e-07}\n",
            "Epoch 23500: total loss = 0.002759, parts = {'data': 0.00030665198573842645, 'physics': 0.0005536056705750525, 'initial': 5.8763002016348764e-05}\n",
            "Epoch 24000: total loss = 0.000484, parts = {'data': 2.4723951810301514e-06, 'physics': 0.0004653322394005954, 'initial': 8.815155752017745e-07}\n",
            "Epoch 24500: total loss = 0.000444, parts = {'data': 2.1897335500398185e-06, 'physics': 0.00042781938100233674, 'initial': 8.39558651932748e-07}\n",
            "Epoch 25000: total loss = 0.019861, parts = {'data': 0.002437926596030593, 'physics': 0.0006629208219237626, 'initial': 0.002132127759978175}\n",
            "Epoch 25500: total loss = 0.000443, parts = {'data': 1.8125323322237819e-06, 'physics': 0.0004291146469768137, 'initial': 7.655565354980354e-07}\n",
            "Epoch 26000: total loss = 0.000731, parts = {'data': 3.958755769417621e-05, 'physics': 0.00044814805733039975, 'initial': 5.843289727636147e-06}\n",
            "Epoch 26500: total loss = 0.001088, parts = {'data': 2.5425426429137588e-05, 'physics': 0.0004080953076481819, 'initial': 0.0005019219825044274}\n",
            "Epoch 27000: total loss = 0.000717, parts = {'data': 4.425763472681865e-05, 'physics': 0.0003906222409568727, 'initial': 1.6558944480493665e-05}\n",
            "Epoch 27500: total loss = 0.000649, parts = {'data': 3.0623948987340555e-05, 'physics': 0.0004252808284945786, 'initial': 9.035308721649926e-06}\n",
            "Epoch 28000: total loss = 0.000467, parts = {'data': 3.589639845813508e-06, 'physics': 0.0004392383270896971, 'initial': 2.9573191113740904e-06}\n",
            "Epoch 28500: total loss = 0.214646, parts = {'data': 0.029727881774306297, 'physics': 0.0034749433398246765, 'initial': 0.0030758664943277836}\n",
            "Epoch 29000: total loss = 0.000463, parts = {'data': 1.2442708339222008e-06, 'physics': 0.0004535485932137817, 'initial': 3.728837043581734e-07}\n",
            "Epoch 29500: total loss = 0.000637, parts = {'data': 1.5024893400550354e-05, 'physics': 0.0005265256040729582, 'initial': 4.9043260332837235e-06}\n"
          ]
        }
      ]
    },
    {
      "cell_type": "code",
      "source": [
        "def model_eval(model,t_test):\n",
        "  model.eval()\n",
        "  t_test_tensor = torch.tensor(t_test, dtype=torch.float32).reshape(-1,1)\n",
        "  t_test_tensor.requires_grad_(True)\n",
        "\n",
        "  predictions = model(t_test_tensor)\n",
        "  x1 = predictions[:, 0:1]\n",
        "  y1 = predictions[:, 1:2]\n",
        "  x2 = predictions[:, 2:3]\n",
        "  y2 = predictions[:, 3:4]\n",
        "\n",
        "  total_mae = torch.mean(torch.abs(x1 - torch.tensor(x1_test, dtype=torch.float32).reshape(-1,1)) + torch.abs(y1 - torch.tensor(y1_test, dtype=torch.float32).reshape(-1,1)) + torch.abs(x2 - torch.tensor(x2_test, dtype=torch.float32).reshape(-1,1)) + torch.abs(y2 - torch.tensor(y2_test, dtype=torch.float32).reshape(-1,1)))\n",
        "  print(f\"MAE: {total_mae:.5f}\")\n",
        "\n",
        "  vx1 = torch.autograd.grad(x1.sum(), t_test_tensor, create_graph=True)[0]\n",
        "  vy1 = torch.autograd.grad(y1.sum(),t_test_tensor, create_graph=True)[0]\n",
        "  vx2 = torch.autograd.grad(x2.sum(), t_test_tensor, create_graph=True)[0]\n",
        "  vy2 = torch.autograd.grad(y2.sum(), t_test_tensor, create_graph=True)[0]\n",
        "\n",
        "  ax1 = torch.autograd.grad(vx1.sum(), t_test_tensor, create_graph=True)[0]\n",
        "  ay1 = torch.autograd.grad(vy1.sum(), t_test_tensor, create_graph=True)[0]\n",
        "  ax2 = torch.autograd.grad(vx2.sum(),t_test_tensor, create_graph=True)[0]\n",
        "  ay2 = torch.autograd.grad(vy2.sum(),t_test_tensor, create_graph=True)[0]\n",
        "\n",
        "  r = torch.sqrt((x2 - x1)**2 + (y2 - y1)**2 + 1e-10)\n",
        "\n",
        "  g_ax1 = G*m_2*(x2 - x1)/ r**3\n",
        "  g_ay1 = G*m_2*(y2 - y1)/ r**3\n",
        "  g_ax2 = G*m_1*(x1 - x2)/ r**3\n",
        "  g_ay2 = G*m_1*(y1 - y2)/ r**3\n",
        "\n",
        "  residual_x1 = ax1 -g_ax1\n",
        "  residual_y1 = ay1 -g_ay1\n",
        "  residual_x2 = ax2 -g_ax2\n",
        "  residual_y2 = ay2 -g_ay2\n",
        "\n",
        "  mean_residual = torch.mean(torch.abs(residual_x1) + torch.abs(residual_y1) +torch.abs(residual_x2) + torch.abs(residual_y2)).item()\n",
        "\n",
        "  print(f\"Mean ODE Residual: {mean_residual:.5f}\")\n",
        "\n",
        "  # Plotting trajectory\n",
        "  plt.figure(figsize=(8, 8))\n",
        "  plt.plot(x1_test, y1_test, 'b-', label='Body 1 True')\n",
        "  plt.plot(x2_test, y2_test, 'r-', label='Body 2 True')\n",
        "  plt.plot(x1.detach().numpy().reshape(-1), y1.detach().numpy().reshape(-1), 'b--', label='Body 1 Pred')\n",
        "  plt.plot(x2.detach().numpy().reshape(-1), y2.detach().numpy().reshape(-1), 'r--', label='Body 2 Pred')\n",
        "  plt.legend()\n",
        "  plt.title('True vs Predicted')\n",
        "  plt.xlabel('X')\n",
        "  plt.ylabel('Y')\n",
        "  plt.axis('equal')\n",
        "  plt.grid(True)\n",
        "  plt.show()\n",
        "  return total_mae, mean_residual\n",
        "\n",
        "\n",
        "mae, residual = model_eval(model,t_test)\n",
        "\n",
        "\n"
      ],
      "metadata": {
        "colab": {
          "base_uri": "https://localhost:8080/",
          "height": 754
        },
        "id": "myAJ0Fcq_4Uu",
        "outputId": "7270296f-65ae-4320-ed35-76608704ff87"
      },
      "execution_count": 78,
      "outputs": [
        {
          "output_type": "stream",
          "name": "stdout",
          "text": [
            "MAE: 15.67333\n",
            "Mean ODE Residual: 2.45436\n"
          ]
        },
        {
          "output_type": "display_data",
          "data": {
            "text/plain": [
              "<Figure size 800x800 with 1 Axes>"
            ],
            "image/png": "[encoded data removed]"
          },
          "metadata": {}
        }
      ]
    },
    {
      "cell_type": "code",
      "source": [],
      "metadata": {
        "colab": {
          "base_uri": "https://localhost:8080/"
        },
        "id": "1ybM8XFj-5lE",
        "outputId": "94617878-23c8-450f-d4f8-494457a9dcd7"
      },
      "execution_count": 68,
      "outputs": [
        {
          "output_type": "stream",
          "name": "stdout",
          "text": [
            "[-2.37770291 -2.42335213 -2.46901626 -2.51469495 -2.56038783 -2.60609455\n",
            " -2.6518148  -2.69754826 -2.74329462 -2.78905359 -2.8348249  -2.88060828\n",
            " -2.92640348 -2.97221026 -3.01802841 -3.0638577  -3.10969794 -3.15554895\n",
            " -3.20141055 -3.24728258]\n"
          ]
        }
      ]
    },
    {
      "cell_type": "code",
      "source": [],
      "metadata": {
        "colab": {
          "base_uri": "https://localhost:8080/"
        },
        "id": "VvA4J_vCB1Bj",
        "outputId": "75753e2e-0863-4298-ad02-e474a5ff5754"
      },
      "execution_count": 74,
      "outputs": [
        {
          "output_type": "execute_result",
          "data": {
            "text/plain": [
              "array([1, 2, 3, 4])"
            ]
          },
          "metadata": {},
          "execution_count": 74
        }
      ]
    },
    {
      "cell_type": "code",
      "source": [],
      "metadata": {
        "id": "7s2goNAbNm1r"
      },
      "execution_count": null,
      "outputs": []
    }
  ]
}